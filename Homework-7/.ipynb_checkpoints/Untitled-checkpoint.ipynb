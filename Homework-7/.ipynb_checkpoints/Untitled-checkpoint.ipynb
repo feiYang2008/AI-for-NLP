{
 "cells": [
  {
   "cell_type": "markdown",
   "metadata": {},
   "source": [
    "## Overfitting and Underfitting"
   ]
  },
  {
   "cell_type": "markdown",
   "metadata": {},
   "source": [
    "To make a Machine Learning model really work, there is a pre-assumption that the distribution of training set and test set should be i.i.d (identical independent distribution). This will let the pattern grabbed from **training set** by the model also work on **test set**, which is so-called **generalization**."
   ]
  },
  {
   "cell_type": "markdown",
   "metadata": {},
   "source": [
    "### Definitions:\n",
    "According to to *Deep Learning*, there are two informal definitions for **overfitting** and **underfitting**.\n",
    "\n",
    "* Overfitting: Which will happen when the gap between train error and test error is large.\n",
    "* Underfitting: Which will happen when the model is not able to obtain the a sufficiently low error on the training set."
   ]
  },
  {
   "cell_type": "markdown",
   "metadata": {},
   "source": [
    "### Possible Reasons For Overfitting\n",
    "\n",
    "1. Data is not sufficiently large to let the pricipal patterns be captured.\n",
    "2. Train data has outliers that are rare in test data. The model become too adaptive to these outliers during training.\n",
    "3. Model is too complex to generalize. e.g, High VC dimension raise the variance as well as generalization error.\n",
    "4. Model is over-trained."
   ]
  },
  {
   "cell_type": "markdown",
   "metadata": {},
   "source": [
    "### Possible Reasons For Underfitting\n",
    "\n",
    "1. Model is too simple to fit the data or trend during training.\n",
    "2. Some important features have been ignored and huge bias on train set happened."
   ]
  }
 ],
 "metadata": {
  "kernelspec": {
   "display_name": "Python 3",
   "language": "python",
   "name": "python3"
  },
  "language_info": {
   "codemirror_mode": {
    "name": "ipython",
    "version": 3
   },
   "file_extension": ".py",
   "mimetype": "text/x-python",
   "name": "python",
   "nbconvert_exporter": "python",
   "pygments_lexer": "ipython3",
   "version": "3.6.5"
  }
 },
 "nbformat": 4,
 "nbformat_minor": 2
}
