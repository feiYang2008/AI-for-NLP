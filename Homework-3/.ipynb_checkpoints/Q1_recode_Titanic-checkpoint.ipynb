{
 "cells": [
  {
   "cell_type": "code",
   "execution_count": 1,
   "metadata": {},
   "outputs": [],
   "source": [
    "import numpy as np\n",
    "import pandas as pd\n",
    "import random\n",
    "import matplotlib.pyplot as plt\n",
    "import requests\n",
    "\n",
    "link = \"https://raw.githubusercontent.com/datasciencedojo/datasets/master/titanic.csv\"\n",
    "\n",
    "# prepare for the data\n",
    "with open('titanic.csv', 'wb') as f:\n",
    "    f.write(requests.get(link).content)\n",
    "content = pd.read_csv('titanic.csv', sep=',')\n",
    "content = content.dropna()\n",
    "\n",
    "age_with_fares = content[\n",
    "    (content['Age'] > 22) & (content['Fare'] < 400) & (content['Fare'] > 130)\n",
    "]\n",
    "sub_fare = age_with_fares['Fare']\n",
    "sub_age = age_with_fares['Age']\n"
   ]
  },
  {
   "cell_type": "code",
   "execution_count": 2,
   "metadata": {},
   "outputs": [],
   "source": [
    "# build the model-function and loss\n",
    "def func(age, k, b):\n",
    "    return k * age + b\n",
    "\n",
    "def loss(y, yhat):\n",
    "    return np.mean(np.power(y - yhat, 2)) / 2\n"
   ]
  },
  {
   "cell_type": "code",
   "execution_count": 3,
   "metadata": {},
   "outputs": [
    {
     "data": {
      "text/plain": [
       "[<matplotlib.lines.Line2D at 0x7fd45e8949e8>]"
      ]
     },
     "execution_count": 3,
     "metadata": {},
     "output_type": "execute_result"
    },
    {
     "data": {
      "image/png": "[encoded data removed]",
      "text/plain": [
       "<Figure size 432x288 with 1 Axes>"
      ]
     },
     "metadata": {},
     "output_type": "display_data"
    }
   ],
   "source": [
    "# Random pick k, b\n",
    "i = 0\n",
    "k_hat, b_hat = 0, 0\n",
    "optim_loss = loss(sub_fare, func(sub_age, k_hat, b_hat))\n",
    "original_loss = optim_loss\n",
    "\n",
    "history = []\n",
    "\n",
    "while i < 10000:\n",
    "    new_k = np.random.uniform(-2, 2)\n",
    "    new_b = np.random.uniform(0, 200)\n",
    "\n",
    "    y_hat = func(sub_age, k_hat, b_hat)\n",
    "    curr_loss = loss(sub_fare, y_hat)\n",
    "\n",
    "    if curr_loss < optim_loss:\n",
    "        history.append(curr_loss)\n",
    "        optim_loss = curr_loss\n",
    "        k_hat, b_hat = new_k, new_b\n",
    "\n",
    "    i += 1\n",
    "plt.plot(history)\n"
   ]
  },
  {
   "cell_type": "code",
   "execution_count": 4,
   "metadata": {},
   "outputs": [
    {
     "data": {
      "text/plain": [
       "[<matplotlib.lines.Line2D at 0x7fd45afbb4e0>]"
      ]
     },
     "execution_count": 4,
     "metadata": {},
     "output_type": "execute_result"
    },
    {
     "data": {
      "image/png": "[encoded data removed]",
      "text/plain": [
       "<Figure size 432x288 with 1 Axes>"
      ]
     },
     "metadata": {},
     "output_type": "display_data"
    }
   ],
   "source": [
    "# Supervise the directions\n",
    "directions = [(1, 1), (1, -1), (-1, 1), (-1, -1)]\n",
    "i = 0\n",
    "j = 0\n",
    "k_hat = 0\n",
    "b_hat = 0\n",
    "lr = 0.01\n",
    "history = []\n",
    "optim_loss = loss(sub_fare, func(sub_age, k_hat, b_hat))\n",
    "original_loss = optim_loss\n",
    "optim_direction = directions[j]\n",
    "while i < 10000:\n",
    "    new_k = k_hat + optim_direction[0] * lr\n",
    "    new_b = b_hat + optim_direction[1] * lr\n",
    "\n",
    "    curr_loss = loss(sub_fare, func(sub_age, new_k, new_b))\n",
    "    if curr_loss < optim_loss:\n",
    "        history.append(curr_loss)\n",
    "        optim_loss = curr_loss\n",
    "        k_hat, b_hat = new_k, new_b\n",
    "    else:\n",
    "        j += 1\n",
    "        optim_direction = directions[j % 4]\n",
    "    i += 1\n",
    "\n",
    "plt.plot(history)\n"
   ]
  },
  {
   "cell_type": "code",
   "execution_count": 5,
   "metadata": {},
   "outputs": [
    {
     "data": {
      "text/plain": [
       "[<matplotlib.lines.Line2D at 0x7fd45aedfac8>]"
      ]
     },
     "execution_count": 5,
     "metadata": {},
     "output_type": "execute_result"
    },
    {
     "data": {
      "image/png": "[encoded data removed]",
      "text/plain": [
       "<Figure size 432x288 with 1 Axes>"
      ]
     },
     "metadata": {},
     "output_type": "display_data"
    }
   ],
   "source": [
    "# gradient descent method\n",
    "def dk(y, yhat, x):\n",
    "    tmp = (y - yhat) * x\n",
    "    return -np.mean(tmp)\n",
    "\n",
    "def db(y, yhat, x):\n",
    "    tmp = (y - yhat)\n",
    "    return -np.mean(tmp)\n",
    "\n",
    "i = 0\n",
    "k_hat = 1\n",
    "b_hat = 2\n",
    "lr = 0.001\n",
    "optim_loss = loss(sub_fare, func(sub_age, k_hat, b_hat))\n",
    "while i < 10000:\n",
    "    k_hat = k_hat - lr * dk(sub_fare, func(sub_age, k_hat, b_hat), sub_age)\n",
    "    b_hat = b_hat - lr * db(sub_fare, func(sub_age, k_hat, b_hat), sub_age)\n",
    "\n",
    "    curr_loss = loss(sub_fare, func(sub_age, k_hat, b_hat))\n",
    "    history.append(curr_loss)\n",
    "    i += 1\n",
    "plt.plot(history)\n"
   ]
  },
  {
   "cell_type": "code",
   "execution_count": 6,
   "metadata": {},
   "outputs": [],
   "source": []
  }
 ],
 "metadata": {
  "file_extension": ".py",
  "kernelspec": {
   "display_name": "Python 3",
   "language": "python",
   "name": "python3"
  },
  "language_info": {
   "codemirror_mode": {
    "name": "ipython",
    "version": 3
   },
   "file_extension": ".py",
   "mimetype": "text/x-python",
   "name": "python",
   "nbconvert_exporter": "python",
   "pygments_lexer": "ipython3",
   "version": "3.6.5"
  },
  "mimetype": "text/x-python",
  "name": "python",
  "npconvert_exporter": "python",
  "pygments_lexer": "ipython3",
  "version": 3
 },
 "nbformat": 4,
 "nbformat_minor": 2
}
