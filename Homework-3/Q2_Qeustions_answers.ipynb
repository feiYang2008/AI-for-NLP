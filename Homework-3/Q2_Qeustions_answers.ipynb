{
 "cells": [
  {
   "cell_type": "markdown",
   "metadata": {},
   "source": [
    " 1. We are seeking a formula that will be generalized to multiple cases instead of one specific task.\n",
    " 2. The whole process is inefficient with huge uncertainty. And we are impossible tp be aware of the ranges of coefficients before training the model.\n",
    " 3. Yeah, 2nd would be better. Since the directions were hard-coded, disadvantages might be it will be hard to make it work in high-dimension feature space.\n",
    " 4. Gradient is an ideal way to determine the direction in which the coefficients should be updated.\n",
    "    It provide a direction where the loss will decrease fastest with respect ot coefficients, so-called steepest descent.\n",
    " 5. Suppose we have a known loss function, gradient refer to the derivative of loss w.r.t parameters and descent refer to the loss will decrease in a steepest descent direction.\n",
    " 6. The 3rd method is adaptive and generalized to more types of tasks compared to the previous 2 methods.\n",
    " 7. The essence of ML is optimization. We simply setup a objective (loss function) and samples (training data) and let the function converge to get the optimized parameters."
   ]
  }
 ],
 "metadata": {
  "file_extension": ".py",
  "kernelspec": {
   "display_name": "Python 3",
   "language": "python",
   "name": "python3"
  },
  "language_info": {
   "codemirror_mode": {
    "name": "ipython",
    "version": 3
   },
   "file_extension": ".py",
   "mimetype": "text/x-python",
   "name": "python",
   "nbconvert_exporter": "python",
   "pygments_lexer": "ipython3",
   "version": "3.6.5"
  },
  "mimetype": "text/x-python",
  "name": "python",
  "npconvert_exporter": "python",
  "pygments_lexer": "ipython3",
  "version": 3
 },
 "nbformat": 4,
 "nbformat_minor": 2
}
