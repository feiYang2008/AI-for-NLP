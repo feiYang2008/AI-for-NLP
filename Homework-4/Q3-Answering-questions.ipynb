{
  "cells": [
    {
      "cell_type": "markdown",
      "metadata": {
        "collapsed": true,
        "pycharm": {
          "name": "#%% md\n"
        }
      },
      "source": "1. Why do we need dynamic programming? What\u0027s the difference of dynamic programming and previous talked search problme?\n\nans: We need DP to increase the efficiency. It removed duplicated operations in robust search. \n\n2. Why do we still need dynamic programming? Why not we train a machine learning to fit a function which could get the right answer based on inputs?\n\nans: It still works well in discrete optimization problems. Finding a function to fit the problem is comparable too idea to satisfy, especially in discrete case.\nInstead of fitting a function, dynamic programming didn\u0027t change the solution but provided an idea to remove trivial, duplicated, and repeated operations. A machine learning \nmethod was not able to keep robust permanently and bring with uncertainties.\n\n3. Can you catch up at least 3 problems which could solved by Dynamic Programming?\n\nans: \n* Route planning optimization given caches.\n* Making decision under fixed conditions\n* In ML, back-propagation of RNN sequence\n\n\n4. Can you catch up at least 3 problems wich could sloved by Edit Distance?\n\nans: 1. In English, detecting duplicates of record in Database.  2. Stemming of words.  3. plagiarization judgement  \n\n5. Please summarize the three main features of Dynamic Programming, and make a concise explain for each feature.\n\nans: \n\n6. What\u0027s the disadvantages of Dynamic Programming? (You may need search by yourself in Internet).\n\nans: Hard to find transition equation"
    }
  ],
  "metadata": {
    "language_info": {
      "codemirror_mode": {
        "name": "ipython",
        "version": 2
      },
      "file_extension": ".py",
      "mimetype": "text/x-python",
      "name": "python",
      "nbconvert_exporter": "python",
      "pygments_lexer": "ipython2",
      "version": "2.7.6"
    },
    "kernelspec": {
      "name": "python3",
      "language": "python",
      "display_name": "Python 3"
    }
  },
  "nbformat": 4,
  "nbformat_minor": 0
}