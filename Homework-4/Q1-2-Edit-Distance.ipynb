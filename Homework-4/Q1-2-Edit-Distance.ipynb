{
  "cells": [
    {
      "cell_type": "markdown",
      "metadata": {
        "collapsed": true,
        "pycharm": {
          "name": "#%% md\n",
          "is_executing": false
        }
      },
      "source": "Edit Distance -\\\u003e int\nnumber of transformations to actions cost to convert string1 to string2\nactions: \n* insertion -\\\u003e 1\n* deletion -\\\u003e 1\n* substitution -\\\u003e 1\n"
    },
    {
      "cell_type": "markdown",
      "source": "#### Define decorator for memoization\n",
      "metadata": {
        "pycharm": {
          "metadata": false,
          "name": "#%% md\n"
        }
      }
    },
    {
      "cell_type": "code",
      "execution_count": 2,
      "outputs": [],
      "source": "def memo(func):\n    memo \u003d {}\n    def inner(*args, **kargs):\n        if args in memo:\n            return memo[args]\n        memo[args] \u003d func(*args)\n        # print(memo)\n        return memo[args]\n    return inner\n",
      "metadata": {
        "pycharm": {
          "metadata": false,
          "name": "#%% \n",
          "is_executing": false
        }
      }
    },
    {
      "cell_type": "markdown",
      "source": "#### Main body of edit distance algorithms\n",
      "metadata": {
        "pycharm": {
          "metadata": false,
          "name": "#%% md\n"
        }
      }
    },
    {
      "cell_type": "code",
      "execution_count": 3,
      "outputs": [],
      "source": "@memo\ndef edit_distance(string1, string2):\n    \"\"\"\n    :param string1: `string`,\n    :param string2: `string`,\n    :return: `int`, edit distance between string1 and string2\n    \"\"\"\n    if len(string1) \u003d\u003d 0 and len(string2) \u003d\u003d 0:\n        return 0\n    if len(string1) \u003d\u003d 0 or len(string2) \u003d\u003d 0:\n        return abs(len(string1) - len(string2))\n\n    c1, c2 \u003d string1[-1], string2[-1]\n\n    if c1 \u003d\u003d c2:\n        return edit_distance(string1[:-1], string2[:-1]) + 0\n    else:\n        return min(\n            edit_distance(string1, string2[:-1]) + 1,   # insert 1 char to str1\n            edit_distance(string1[:-1], string2) + 1,   # delete 1 char from str1\n            edit_distance(string1[:-1], string2[:-1]) + 2   # substitute 1 char in str1 (assume 2 actions for sub)\n        )\n    ",
      "metadata": {
        "pycharm": {
          "metadata": false,
          "name": "#%% \n",
          "is_executing": false
        }
      }
    },
    {
      "cell_type": "code",
      "execution_count": 4,
      "outputs": [
        {
          "name": "stdout",
          "text": [
            "Ans: 1\nAns: 2\n"
          ],
          "output_type": "stream"
        }
      ],
      "source": "# Test\nprint(\"Ans:\", edit_distance(\u0027ABCD\u0027, \u0027ABC\u0027))   # --\u003e 1\nprint(\"Ans:\", edit_distance(\u0027abcde\u0027, \u0027abdec\u0027)) # --\u003e 2\n",
      "metadata": {
        "pycharm": {
          "metadata": false,
          "name": "#%% \n",
          "is_executing": false
        }
      }
    }
  ],
  "metadata": {
    "language_info": {
      "codemirror_mode": {
        "name": "ipython",
        "version": 2
      },
      "file_extension": ".py",
      "mimetype": "text/x-python",
      "name": "python",
      "nbconvert_exporter": "python",
      "pygments_lexer": "ipython2",
      "version": "2.7.6"
    },
    "kernelspec": {
      "name": "pycharm-4fbbadfb",
      "language": "python",
      "display_name": "PyCharm (Homework-4)"
    }
  },
  "nbformat": 4,
  "nbformat_minor": 0
}