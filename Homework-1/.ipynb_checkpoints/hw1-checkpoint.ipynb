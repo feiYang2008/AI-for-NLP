{
 "cells": [
  {
   "cell_type": "code",
   "execution_count": 1,
   "metadata": {},
   "outputs": [
    {
     "name": "stdout",
     "output_type": "stream",
     "text": [
      "/home/yikang/Desktop/AI-for-NLP\n"
     ]
    }
   ],
   "source": [
    "# Change directory to VSCode workspace root so that relative path loads work correctly. Turn this addition off with the DataScience.changeDirOnImportExport setting\n",
    "import os\n",
    "try:\n",
    "\tos.chdir(os.path.join(os.getcwd(), '..'))\n",
    "\tprint(os.getcwd())\n",
    "except:\n",
    "\tpass\n"
   ]
  },
  {
   "cell_type": "code",
   "execution_count": 13,
   "metadata": {},
   "outputs": [],
   "source": [
    "def is_variable(pat):\n",
    "    \"\"\"\n",
    "    @pat: `string` string that could be a variable\n",
    "    @return: 'bool', whether the input string is a variable\n",
    "    \"\"\"\n",
    "    return pat.startswith('?') and all(s.isalpha() for s in pat[1:])"
   ]
  },
  {
   "cell_type": "code",
   "execution_count": 14,
   "metadata": {},
   "outputs": [
    {
     "data": {
      "text/plain": [
       "True"
      ]
     },
     "execution_count": 14,
     "metadata": {},
     "output_type": "execute_result"
    }
   ],
   "source": [
    "is_variable(\"?X\")\n"
   ]
  },
  {
   "cell_type": "code",
   "execution_count": 15,
   "metadata": {},
   "outputs": [],
   "source": [
    "def pat_match(pattern, saying):\n",
    "    \"\"\"\n",
    "    @pattern: pattern string containing variables\n",
    "    @saying: a saying string\n",
    "    @return: tuple('string'), tuples of variables and matched words in saying\n",
    "    \"\"\"\n",
    "    if is_variable(pattern[0]):\n",
    "        return pattern[0], saying[0]\n",
    "    else:\n",
    "        if pattern[0] != saying[0]: return \"\",\"\"\n",
    "        else:\n",
    "            return pat_match(pattern[1:], saying[1:])\n"
   ]
  },
  {
   "cell_type": "code",
   "execution_count": 16,
   "metadata": {},
   "outputs": [
    {
     "data": {
      "text/plain": [
       "('?X', 'holiday')"
      ]
     },
     "execution_count": 16,
     "metadata": {},
     "output_type": "execute_result"
    }
   ],
   "source": [
    "pattern = \"I want ?X\".split()\n",
    "saying = \"I want holiday\".split()\n",
    "pat_match(pattern, saying)"
   ]
  },
  {
   "cell_type": "code",
   "execution_count": 17,
   "metadata": {},
   "outputs": [],
   "source": [
    "def pat_match(pattern, saying):\n",
    "    \"\"\"\n",
    "    modified `pattern match` function for multiple variables\n",
    "    @pattern: `List(`string`)`, pattern string that contain variables\n",
    "    @saying: `List(`string`)`, saying string that contain matched words\n",
    "    @return: `List(tuple('string'))`, tuples that contain pair of variable and matched word\n",
    "    \"\"\"\n",
    "    if not pattern or not saying: return []\n",
    "\n",
    "    if is_variable(pattern[0]):\n",
    "        return [(pattern[0], saying[0])] + pat_match(pattern[1:], saying[1:])\n",
    "    else:\n",
    "        if pattern[0] != saying[0]: return []\n",
    "        else:\n",
    "            return pat_match(pattern[1:], saying[1:])\n"
   ]
  },
  {
   "cell_type": "code",
   "execution_count": 18,
   "metadata": {},
   "outputs": [
    {
     "data": {
      "text/plain": [
       "[('?X', '3'), ('?Y', '2')]"
      ]
     },
     "execution_count": 18,
     "metadata": {},
     "output_type": "execute_result"
    }
   ],
   "source": [
    "pat_match(\"?X greater than ?Y\".split(), \"3 greater than 2\".split())\n"
   ]
  },
  {
   "cell_type": "code",
   "execution_count": 19,
   "metadata": {},
   "outputs": [],
   "source": [
    "def pat_to_dict(patterns):\n",
    "    \"\"\"\n",
    "    suppose there is one-to-one correspondence between variable and word\n",
    "    @patterns: `List(tuples(`string`))`, a list of `variable - word` pairs\n",
    "    \"\"\"\n",
    "    return {k:v for k,v in patterns}\n",
    "\n",
    "def substitute(rule, parsed_rules):\n",
    "    \"\"\"\n",
    "    @rule: `list`, array of words including variables that may correspond to some words\n",
    "    @parsed_rule: `dict`, mapping from 'rule' to 'words'\n",
    "    @return: `list`, array of words where `variables` has been substituted by `word`\n",
    "    \"\"\"\n",
    "    if not rule: return []\n",
    "    return [parsed_rules.get(rule[0], rule[0])] + substitute(rule[1:], parsed_rules)\n"
   ]
  },
  {
   "cell_type": "code",
   "execution_count": 20,
   "metadata": {},
   "outputs": [],
   "source": [
    "got_patterns = pat_match(\"I want ?X\".split(), \"I want iPhone\".split())\n",
    "substitute(\"What if you mean if you got a ?X\".split(), pat_to_dict(got_patterns))\n",
    "# or\n",
    "join_pat = ' '.join(substitute(\"What if you mean if you got a ?X\".split(), pat_to_dict(got_patterns)))\n"
   ]
  },
  {
   "cell_type": "code",
   "execution_count": 21,
   "metadata": {},
   "outputs": [],
   "source": [
    "defined_patterns = {\n",
    "    \"I need ?X\": [\"Image you will get ?X soon\", \"Why do you need ?X ?\"], \n",
    "    \"My ?X told me something\": [\"Talk about more about your ?X\", \"How do you think about your ?X ?\"]\n",
    "}\n",
    "\n",
    "def get_response(saying, rules):\n",
    "    \"\"\"\" please implement the code, to get the response as followings:\n",
    "    \n",
    "    >>> get_response('I need iPhone') \n",
    "    >>> Image you will get iPhone soon\n",
    "    >>> get_response(\"My mother told me something\")\n",
    "    >>> Talk about more about your monther.\n",
    "    \n",
    "    @saying: `string`, saying string having words\n",
    "    @rules: `dict`, pre-defined responses for specific patterns\n",
    "    @return: `string`, response string for a saying string according to `rules`\n",
    "    \"\"\"\n",
    "    # find patterns in `rules` that match `saying`\n",
    "    matched_pattern_rules = []\n",
    "    for pat in rules:\n",
    "        tmp = pat_match(pat.split(), saying.split())\n",
    "        if not tmp: continue\n",
    "        matched_pattern_rules.append((pat, tmp))\n",
    "    \n",
    "    # randomly picked one matched_pattern TODO: add random index\n",
    "    matched_pattern, patterns = matched_pattern_rules[0]\n",
    "    parsed_rule = pat_to_dict(patterns)\n",
    "\n",
    "    # randomly picked one response pattern rule TODO: add random index\n",
    "    response_pattern_rule = rules[matched_pattern][0]\n",
    "    return substitute(response_pattern_rule.split(), parsed_rule)\n"
   ]
  },
  {
   "cell_type": "code",
   "execution_count": 22,
   "metadata": {},
   "outputs": [
    {
     "data": {
      "text/plain": [
       "['Image', 'you', 'will', 'get', 'iPhone', 'soon']"
      ]
     },
     "execution_count": 22,
     "metadata": {},
     "output_type": "execute_result"
    }
   ],
   "source": [
    "test_saying = \"I need iPhone\"\n",
    "get_response(test_saying, defined_patterns)\n"
   ]
  },
  {
   "cell_type": "markdown",
   "metadata": {},
   "source": [
    "## Segment Match"
   ]
  },
  {
   "cell_type": "code",
   "execution_count": 23,
   "metadata": {},
   "outputs": [],
   "source": [
    "def is_pattern_segment(pattern):\n",
    "    \"\"\"\n",
    "    determine whether a string is a segment variable\n",
    "    @pattern: `string`, \n",
    "    \"\"\"\n",
    "    return pattern.startswith('?*') and all(a.isalpha() for a in pattern[2:])\n"
   ]
  },
  {
   "cell_type": "code",
   "execution_count": 24,
   "metadata": {},
   "outputs": [
    {
     "data": {
      "text/plain": [
       "True"
      ]
     },
     "execution_count": 24,
     "metadata": {},
     "output_type": "execute_result"
    }
   ],
   "source": [
    "is_pattern_segment(\"?*P\")\n"
   ]
  },
  {
   "cell_type": "code",
   "execution_count": 25,
   "metadata": {},
   "outputs": [],
   "source": [
    "def is_match(rest, saying):\n",
    "    \"\"\"\n",
    "    @rest: `List(string)`, list of words\n",
    "    @saying: `List(string)`, list of words\n",
    "    @return: `bool`, whether two list of words matched each other\n",
    "    \"\"\"\n",
    "    if not rest and not saying:\n",
    "        return True\n",
    "    if not all(a.isalpha() for a in rest[0]):\n",
    "        return True\n",
    "    if rest[0] != saying[0]:\n",
    "        return False\n",
    "    return is_match(rest[1:], saying[1:])\n",
    "\n",
    "def segment_match(pattern, saying):\n",
    "    \"\"\"\n",
    "    assume `pattern` string and `saying` string are same except `segment variable`\n",
    "    @pattern: `List(string)`, list of words that starting with a variable\n",
    "    @saying: `List(string)`, list of words that have words to which variables matched\n",
    "    @return: `Tuple(tuple(string, List(string)), int)`, pair of `variable-segment of string pair` and its location\n",
    "    \"\"\"\n",
    "    seg_pat, rest = pattern[0], pattern[1:]\n",
    "    seg_pat = seg_pat.replace('?*', '?')\n",
    "    if not rest: return (seg_pat, saying), len(saying)\n",
    "\n",
    "    for i, token in enumerate(saying):\n",
    "        if rest[0] == token and is_match(rest[1:], saying[(i+1):]):\n",
    "            return (seg_pat, saying[:i]), i\n",
    "    return (seg_pat, saying), len(saying)\n",
    "    "
   ]
  },
  {
   "cell_type": "code",
   "execution_count": 26,
   "metadata": {},
   "outputs": [],
   "source": [
    "fail = [True, None]\n",
    "\n",
    "def pat_match_with_seg(pattern, saying):\n",
    "    \"\"\"\n",
    "    @pattern: `List(`string`)`, a pattern string that would contain (segment) variables\n",
    "    @saying: `List(`string`)`, a saying string that contain words to match `variables`\n",
    "    @return: `List(tuple(string, List(string)))`\n",
    "    \"\"\"\n",
    "    if not pattern or not saying: return []\n",
    "\n",
    "    pat = pattern[0]\n",
    "    \n",
    "    if is_pattern_segment(pat):\n",
    "        match, index = segment_match(pattern, saying)\n",
    "        return [match] + pat_match_with_seg(pattern[1:], saying[index:])\n",
    "    elif is_variable(pat):\n",
    "        return [(pat, saying[0])] + pat_match_with_seg(pattern[1:], saying[1:])\n",
    "    elif pat == saying[0]:\n",
    "        return pat_match_with_seg(pattern[1:], saying[1:])\n",
    "    else:\n",
    "        return []\n"
   ]
  },
  {
   "cell_type": "code",
   "execution_count": 27,
   "metadata": {},
   "outputs": [
    {
     "data": {
      "text/plain": [
       "[('?P', ['My', 'dog']), ('?X', ['my', 'cat', 'is', 'very', 'cute'])]"
      ]
     },
     "execution_count": 27,
     "metadata": {},
     "output_type": "execute_result"
    }
   ],
   "source": [
    "segment_match('?*P is very good'.split(), \"My dog and my cat is very good\".split())\n",
    "pat_match_with_seg('?*P is very good and ?*X'.split(), \"My dog is very good and my cat is very cute\".split())\n"
   ]
  },
  {
   "cell_type": "code",
   "execution_count": 28,
   "metadata": {},
   "outputs": [
    {
     "data": {
      "text/plain": [
       "['Why', 'do', 'you', 'neeed', ['an', 'iPhone']]"
      ]
     },
     "execution_count": 28,
     "metadata": {},
     "output_type": "execute_result"
    }
   ],
   "source": [
    "response_pair = {\n",
    "    \"I need ?X\": [\"Why do you need ?X\"], \n",
    "    \"I don't like my ?X\": [\"What bad things did ?X do for you?\"]\n",
    "}\n",
    "pat_match_with_seg('I need ?*X'.split(), \n",
    "                  \"I need an iPhone\".split())\n",
    "substitute(\"Why do you neeed ?X\".split(), pat_to_dict(pat_match_with_seg('I need ?*X'.split(), \n",
    "                  \"I need an iPhone\".split())))\n"
   ]
  },
  {
   "cell_type": "code",
   "execution_count": 29,
   "metadata": {},
   "outputs": [
    {
     "data": {
      "text/plain": [
       "['Why', 'do', 'you', 'neeed', 'an iPhone']"
      ]
     },
     "execution_count": 29,
     "metadata": {},
     "output_type": "execute_result"
    }
   ],
   "source": [
    "def pat_to_dict(patterns):\n",
    "    \"\"\"\n",
    "    (modified)suppose there is one-to-one correspondence between variable and word\n",
    "    @patterns: `List(tuples(`string`))`, a list of `variable - word` pairs\n",
    "    \"\"\"\n",
    "    return {k:' '.join(v) if isinstance(v, list) else v for k,v in patterns}\n",
    "\n",
    "substitute(\"Why do you neeed ?X\".split(), pat_to_dict(pat_match_with_seg('I need ?*X'.split(), \n",
    "                  \"I need an iPhone\".split())))\n"
   ]
  },
  {
   "cell_type": "markdown",
   "metadata": {},
   "source": [
    "# Homework parts"
   ]
  },
  {
   "cell_type": "code",
   "execution_count": 30,
   "metadata": {},
   "outputs": [],
   "source": [
    "rules = {\n",
    "    \"?*X hello ?*Y\": [\"Hi, how do you do?\"],\n",
    "    \"I was ?*X\": [\"Were you really ?X ?\", \"I already knew you were ?X .\"]\n",
    "}"
   ]
  },
  {
   "cell_type": "markdown",
   "metadata": {},
   "source": [
    "## Task 1\n",
    " Do modification to these three functions to make it work."
   ]
  },
  {
   "cell_type": "code",
   "execution_count": 31,
   "metadata": {},
   "outputs": [],
   "source": [
    "import random\n",
    "def segment_match(pattern, saying):\n",
    "    \"\"\"(modified)\n",
    "    assume `pattern` string and `saying` string are same except `segment variable`\n",
    "    @pattern: `List(string)`, list of words that starting with a variable\n",
    "    @saying: `List(string)`, list of words that have words to which variables matched\n",
    "    @return: `Tuple(tuple(string, List(string)), int)`, pair of `variable-segment of string pair` and its location\n",
    "    \"\"\"\n",
    "    seg_pat, rest = pattern[0], pattern[1:]\n",
    "    seg_pat = seg_pat.replace('?*', '?')\n",
    "    if not rest: return (seg_pat, saying), len(saying)\n",
    "    \n",
    "    for i, token in enumerate(saying):\n",
    "        # assume the length of `rest` cannot exceed the length of saying\n",
    "        if len(saying) - i - 1 < len(rest):\n",
    "            break\n",
    "        if rest[0] == token and is_match(rest[1:], saying[(i+1):]):\n",
    "            return (seg_pat, saying[:i+1]), i+1\n",
    "    return (seg_pat, saying[:i+1]), i+1\n",
    "\n",
    "def pat_match_with_seg(pattern, saying):\n",
    "    \"\"\"(modified)\n",
    "    @pattern: `List(`string`)`, a pattern string that would contain (segment) variables\n",
    "    @saying: `List(`string`)`, a saying string that contain words to match `variables`\n",
    "    @return: `List(tuple(string, List(string)), bool)`\n",
    "    \"\"\"\n",
    "    if not pattern or not saying: return [True]\n",
    "\n",
    "    pat = pattern[0]\n",
    "    \n",
    "    if is_pattern_segment(pat):\n",
    "        match, index = segment_match(pattern, saying)\n",
    "        tmp = pat_match_with_seg(pattern[1:], saying[index:])\n",
    "        if not tmp[-1]:\n",
    "            return [False]\n",
    "        tmp.pop()\n",
    "        return [match] + tmp + [True]\n",
    "            \n",
    "    elif is_variable(pat):\n",
    "        tmp = pat_match_with_seg(pattern[1:], saying[1:]) \n",
    "        if not tmp[-1]:\n",
    "            return [False]\n",
    "        tmp.pop()\n",
    "        return [(pat, saying[0])] + tmp + [True]\n",
    "    elif pat == saying[0]:\n",
    "        return pat_match_with_seg(pattern[1:], saying[1:])\n",
    "    else:\n",
    "        return [False]\n",
    "\n",
    "def get_response(saying, rules):\n",
    "    \"\"\" (modified)\n",
    "    please implement the code, to get the response as followings:\n",
    "    \n",
    "    >>> get_response('I need iPhone') \n",
    "    >>> Image you will get iPhone soon\n",
    "    >>> get_response(\"My mother told me something\")\n",
    "    >>> Talk about more about your monther.\n",
    "    \n",
    "    @saying: `string`, saying string having words\n",
    "    @rules: `dict`, pre-defined responses for specific patterns\n",
    "    @return: `string`, response string for a saying string according to `rules`\n",
    "    \"\"\"\n",
    "    # find patterns in `rules` that match `saying`\n",
    "    matched_pattern_rules = []\n",
    "    for pat in rules:\n",
    "        tmp = pat_match_with_seg(pat.split(), saying.split())\n",
    "        if not tmp[-1]: continue\n",
    "        tmp.pop()\n",
    "        matched_pattern_rules.append((pat, tmp))\n",
    "    print(matched_pattern_rules)\n",
    "    # randomly picked one matched_pattern TODO: add random index\n",
    "    matched_pattern, patterns = random.choice(matched_pattern_rules)\n",
    "    parsed_rule = pat_to_dict(patterns)\n",
    "\n",
    "    # randomly picked one response pattern rule TODO: add random index\n",
    "    response_pattern_rule = random.choice(rules[matched_pattern])\n",
    "    return substitute(response_pattern_rule.split(), parsed_rule)\n"
   ]
  },
  {
   "cell_type": "code",
   "execution_count": 32,
   "metadata": {},
   "outputs": [
    {
     "name": "stdout",
     "output_type": "stream",
     "text": [
      "[('I was ?*X', [('?X', ['A', 'B', 'C', 'E', 'F', 'G'])])]\n"
     ]
    },
    {
     "data": {
      "text/plain": [
       "['Were', 'you', 'really', 'A B C E F G', '?']"
      ]
     },
     "execution_count": 32,
     "metadata": {},
     "output_type": "execute_result"
    }
   ],
   "source": [
    "# segment_match(\"?*P hello you\".split(), \"ABA dff hello you\".split())\n",
    "# pat_match_with_seg(\"?*P hello you\".split(), \"ABA dff hello you\".split())\n",
    "get_response(\"I was A B C E F G\", rules)\n",
    "# segment_match(\"?*X hello %*Y\".split(), \"I was A B C\".split())\n",
    "\n"
   ]
  },
  {
   "cell_type": "markdown",
   "metadata": {},
   "source": [
    "## Task 2"
   ]
  },
  {
   "cell_type": "code",
   "execution_count": 33,
   "metadata": {},
   "outputs": [
    {
     "name": "stderr",
     "output_type": "stream",
     "text": [
      "Building prefix dict from the default dictionary ...\n",
      "Loading model from cache /tmp/jieba.cache\n",
      "Loading model cost 0.606 seconds.\n",
      "Prefix dict has been built succesfully.\n"
     ]
    },
    {
     "name": "stdout",
     "output_type": "stream",
     "text": [
      "['我', '来到', '北京', '清华大学']\n"
     ]
    }
   ],
   "source": [
    "import jieba\n",
    "import random\n",
    "rules = {\n",
    "    '?*x你好?*y': ['你好呀', '请告诉我你的问题'],\n",
    "    '?*x我想?*y': ['你觉得?y有什么意义呢？', '为什么你想?y', '你可以想想你很快就可以?y了'],\n",
    "    '?*x我想要?*y': ['?x想问你，你觉得?y有什么意义呢?', '为什么你想?y', '?x觉得... 你可以想想你很快就可以有?y了', '你看?x像?y不', '我看你就像?y']\n",
    "}\n",
    "\n",
    "seg_list = list(jieba.cut(\"我来到北京清华大学\", cut_all=False))\n",
    "print(list(seg_list))\n",
    "\n",
    "def is_match(rest, saying):\n",
    "    \"\"\"\n",
    "    @rest: `List(string)`, list of words\n",
    "    @saying: `List(string)`, list of words\n",
    "    @return: `bool`, whether two list of words matched each other\n",
    "    \"\"\"\n",
    "    if not rest and not saying:\n",
    "        return True\n",
    "    if not all(re.match('[\\u4e00-\\u9fa5]', a) is None for a in rest[0]):\n",
    "        return True\n",
    "    if rest[0] != saying[0]:\n",
    "        return False\n",
    "    return is_match(rest[1:], saying[1:])\n",
    "\n",
    "def segment_match(pattern, saying):\n",
    "    \"\"\"(modified)\n",
    "    assume `pattern` string and `saying` string are same except `segment variable`\n",
    "    @pattern: `List(string)`, list of words that starting with a variable\n",
    "    @saying: `List(string)`, list of words that have words to which variables matched\n",
    "    @return: `Tuple(tuple(string, List(string)), int)`, pair of `variable-segment of string pair` and its location\n",
    "    \"\"\"\n",
    "    seg_pat, rest = pattern[0], pattern[1:]\n",
    "    seg_pat = seg_pat.replace('?*', '?')\n",
    "    if not rest: return (seg_pat, saying), len(saying)\n",
    "    \n",
    "    for i, token in enumerate(saying):\n",
    "        # assume the length of `rest` cannot exceed the length of saying\n",
    "        if len(saying) - i - 1 == len(rest):\n",
    "            break\n",
    "        if rest[0] == token and is_match(rest[1:], saying[(i+1):]):\n",
    "            return (seg_pat, saying[:i+1]), i+1\n",
    "    return (seg_pat, saying[:i+1]), i+1\n",
    "\n",
    "def pat_match_with_seg(pattern, saying):\n",
    "    \"\"\"(modified)\n",
    "    @pattern: `List(`string`)`, a pattern string that would contain (segment) variables\n",
    "    @saying: `List(`string`)`, a saying string that contain words to match `variables`\n",
    "    @return: `List(tuple(string, List(string)), bool)`\n",
    "    \"\"\"\n",
    "    if not pattern or not saying: return [True]\n",
    "\n",
    "    pat = pattern[0]\n",
    "    \n",
    "    if is_pattern_segment(pat):\n",
    "        match, index = segment_match(pattern, saying)\n",
    "        tmp = pat_match_with_seg(pattern[1:], saying[index:])\n",
    "        if not tmp[-1]:\n",
    "            return [False]\n",
    "        tmp.pop()\n",
    "        return [match] + tmp + [True]\n",
    "            \n",
    "    elif is_variable(pat):\n",
    "        tmp = pat_match_with_seg(pattern[1:], saying[1:]) \n",
    "        if not tmp[-1]:\n",
    "            return [False]\n",
    "        tmp.pop()\n",
    "        return [(pat, saying[0])] + tmp + [True]\n",
    "    elif pat == saying[0]:\n",
    "        return pat_match_with_seg(pattern[1:], saying[1:])\n",
    "    else:\n",
    "        return [False]\n",
    "\n",
    "\n",
    "def split(chinese_seq):\n",
    "    \"\"\"\n",
    "    @chinese_seq: `string`,seq of chinese characters but would have `variables`\n",
    "    @return: `List(string)`, list of strings\n",
    "    \"\"\"\n",
    "    lis = []\n",
    "    l = r = 0\n",
    "    seq = [re.match('[\\u4e00-\\u9fa5]', ch) is None for ch in chinese_seq] + [False]\n",
    "    while l <= r and r <= len(chinese_seq):\n",
    "        while r < len(chinese_seq) and seq[l] == seq[r]:\n",
    "            r += 1\n",
    "        if r == len(chinese_seq):\n",
    "            lis.append(chinese_seq[l:r])\n",
    "            break\n",
    "        if seq[l] != seq[r]:\n",
    "            lis.append(chinese_seq[l:r])\n",
    "            l = r\n",
    "    res = []\n",
    "    for string in lis:\n",
    "        tmp = re.match('[\\u4e00-\\u9fa5]+', string)\n",
    "        if tmp:\n",
    "            for word in jieba.cut(tmp.group(), cut_all=False):\n",
    "                res.append(word)\n",
    "        else:\n",
    "            res.append(string)\n",
    "    return res\n",
    "\n",
    "def get_response_jieba(saying, rules):\n",
    "    \"\"\" (modified: jieba)\n",
    "    please implement the code, to get the response as followings:\n",
    "    \n",
    "    >>> get_response('I need iPhone') \n",
    "    >>> Image you will get iPhone soon\n",
    "    >>> get_response(\"My mother told me something\")\n",
    "    >>> Talk about more about your monther.\n",
    "    \n",
    "    @saying: `string`, saying string having words\n",
    "    @rules: `dict`, pre-defined responses for specific patterns\n",
    "    @return: `string`, response string for a saying string according to `rules`\n",
    "    \"\"\"\n",
    "    # find patterns in `rules` that match `saying`\n",
    "    matched_pattern_rules = []\n",
    "    for pat in rules:\n",
    "        pattern = split(pat)\n",
    "        saying_ = split(saying)\n",
    "        tmp = pat_match_with_seg(pattern, saying_)\n",
    "        if not tmp[-1]: continue\n",
    "        tmp.pop()\n",
    "        matched_pattern_rules.append((pat, tmp))\n",
    "    \n",
    "    # randomly picked one matched_pattern TODO: add random index\n",
    "    matched_pattern, patterns = random.choice(matched_pattern_rules)\n",
    "    parsed_rule = pat_to_dict(patterns)\n",
    "\n",
    "    # randomly picked one response pattern rule TODO: add random index\n",
    "    response_pattern_rule = random.choice(rules[matched_pattern])\n",
    "    response_pattern_rule = split(response_pattern_rule)\n",
    "    return substitute(response_pattern_rule, parsed_rule)\n"
   ]
  },
  {
   "cell_type": "code",
   "execution_count": 34,
   "metadata": {},
   "outputs": [
    {
     "name": "stdout",
     "output_type": "stream",
     "text": [
      "[('?x', ['HI']), ('?y', ['玩游戏']), True]\n",
      "['你', '觉得', '玩游戏', '有', '什么', '意义', '呢', '？']\n"
     ]
    }
   ],
   "source": [
    "saying = [\"HI\",\"我\", \"想\", \"玩游戏\"]\n",
    "pattern = ['?*x', \"我\", \"想\", \"?*y\"]\n",
    "\n",
    "print(pat_match_with_seg(split(''.join(pattern)), split(''.join(saying))))\n",
    "\n",
    "print(get_response_jieba(\"\".join(saying), rules))\n"
   ]
  },
  {
   "cell_type": "code",
   "execution_count": 366,
   "metadata": {},
   "outputs": [],
   "source": []
  }
 ],
 "metadata": {
  "file_extension": ".py",
  "kernelspec": {
   "display_name": "Python 3",
   "language": "python",
   "name": "python3"
  },
  "language_info": {
   "codemirror_mode": {
    "name": "ipython",
    "version": 3
   },
   "file_extension": ".py",
   "mimetype": "text/x-python",
   "name": "python",
   "nbconvert_exporter": "python",
   "pygments_lexer": "ipython3",
   "version": "3.6.5"
  },
  "mimetype": "text/x-python",
  "name": "python",
  "npconvert_exporter": "python",
  "pygments_lexer": "ipython3",
  "version": 3
 },
 "nbformat": 4,
 "nbformat_minor": 2
}
